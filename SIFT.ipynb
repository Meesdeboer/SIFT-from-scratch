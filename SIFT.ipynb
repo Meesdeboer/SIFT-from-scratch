{
 "cells": [
  {
   "cell_type": "code",
   "execution_count": 1,
   "metadata": {},
   "outputs": [],
   "source": [
    "import cv2\n",
    "import numpy as np\n",
    "import matplotlib.pyplot as plt "
   ]
  },
  {
   "cell_type": "code",
   "execution_count": 2,
   "metadata": {},
   "outputs": [],
   "source": [
    "# Default value for amount of intervals per octave\n",
    "intervals_per_octave = 3\n",
    "\n",
    "# Default value for amount of octaves\n",
    "num_of_octaves = 4\n",
    "\n",
    "# Default value for initial gaussian blur\n",
    "sigma = 1.6\n",
    "\n",
    "# Default value for contrast threshold\n",
    "contrast_threshold = 0.04\n",
    "\n",
    "# Default value for edge threshold\n",
    "edge_threshold = 10\n",
    "\n",
    "# Assumed gaussian blur for input image\n",
    "initial_sigma = 0.5\n",
    "\n",
    "# Default value for max interpolation steps\n",
    "max_interp_steps = 5\n",
    "\n",
    "# Double image size\n",
    "double_image_size = True\n",
    "\n",
    "# Default value for number of layers in octave\n",
    "num_of_layers_in_octave = 3\n"
   ]
  },
  {
   "cell_type": "code",
   "execution_count": 3,
   "metadata": {},
   "outputs": [],
   "source": [
    "def create_initial_image(img, double_image_size, sigma):\n",
    "    if double_image_size:\n",
    "        sig_diff = np.sqrt(sigma * sigma - initial_sigma * initial_sigma * 4)\n",
    "        img = cv2.resize(img, (0, 0), fx=2, fy=2, interpolation=cv2.INTER_LINEAR)\n",
    "        img = cv2.GaussianBlur(img, (0, 0), sig_diff)\n",
    "    else:\n",
    "        sig_diff = np.sqrt(sigma * sigma - initial_sigma * initial_sigma)\n",
    "        img = cv2.GaussianBlur(img, (0, 0), sig_diff)\n",
    "\n",
    "    # Convert to float32\n",
    "    img = img.astype(np.float32)\n",
    "\n",
    "    return img"
   ]
  },
  {
   "cell_type": "code",
   "execution_count": 4,
   "metadata": {},
   "outputs": [],
   "source": [
    "img = create_initial_image(cv2.imread('images/sunflowers.jpg', cv2.IMREAD_GRAYSCALE), double_image_size, sigma)"
   ]
  },
  {
   "cell_type": "code",
   "execution_count": 5,
   "metadata": {},
   "outputs": [
    {
     "name": "stdout",
     "output_type": "stream",
     "text": [
      "24\n"
     ]
    }
   ],
   "source": [
    "def build_gaussian_pyramid(base, nOctaves, nOctaveLayers, sigma):\n",
    "    sig = [0] * (nOctaveLayers + 3)\n",
    "    pyr = [None] * (nOctaves * (nOctaveLayers + 3))  # flat list\n",
    "\n",
    "    # Precompute Gaussian sigmas\n",
    "    sig[0] = sigma\n",
    "    k = 2.0 ** (1.0 / nOctaveLayers)\n",
    "    for i in range(1, nOctaveLayers + 3):\n",
    "        sig_prev = (k ** (i - 1)) * sigma\n",
    "        sig_total = sig_prev * k\n",
    "        sig[i] = np.sqrt(sig_total ** 2 - sig_prev ** 2)\n",
    "\n",
    "    for o in range(nOctaves):\n",
    "        for i in range(nOctaveLayers + 3):\n",
    "            idx = o * (nOctaveLayers + 3) + i\n",
    "            if o == 0 and i == 0:\n",
    "                pyr[idx] = base.copy()\n",
    "            elif i == 0:\n",
    "                # Downsample last layer of previous octave\n",
    "                src = pyr[(o - 1) * (nOctaveLayers + 3) + nOctaveLayers]\n",
    "                pyr[idx] = cv2.resize(src, (src.shape[1] // 2, src.shape[0] // 2), interpolation=cv2.INTER_NEAREST)\n",
    "            else:\n",
    "                src = pyr[o * (nOctaveLayers + 3) + i - 1]\n",
    "                blurred = cv2.GaussianBlur(src, (0, 0), sig[i], sig[i])\n",
    "                pyr[idx] = blurred\n",
    "\n",
    "    return pyr\n",
    "\n",
    "pyr = build_gaussian_pyramid(img, num_of_octaves, num_of_layers_in_octave, sigma)\n",
    "print(len(pyr))\n"
   ]
  },
  {
   "cell_type": "code",
   "execution_count": null,
   "metadata": {},
   "outputs": [],
   "source": [
    "# Plot the gaussian pyramid\n",
    "# Array is len(24). 4 octaves with 6 images each\n",
    "# Each row is an octave\n",
    "\n",
    "fig, axes = plt.subplots(4, 6, figsize=(15, 10))\n",
    "axes = axes.ravel()\n",
    "\n",
    "for i, ax in enumerate(axes):\n",
    "    ax.imshow(pyr[i], cmap='gray')\n",
    "    # Get image dimensions\n",
    "    height, width = pyr[i].shape\n",
    "    ax.set_title(f'{width}x{height}')\n",
    "    ax.axis('off')\n",
    "\n",
    "plt.tight_layout()\n",
    "plt.show()"
   ]
  }
 ],
 "metadata": {
  "kernelspec": {
   "display_name": "Python 3",
   "language": "python",
   "name": "python3"
  },
  "language_info": {
   "codemirror_mode": {
    "name": "ipython",
    "version": 3
   },
   "file_extension": ".py",
   "mimetype": "text/x-python",
   "name": "python",
   "nbconvert_exporter": "python",
   "pygments_lexer": "ipython3",
   "version": "3.11.5"
  }
 },
 "nbformat": 4,
 "nbformat_minor": 2
}
